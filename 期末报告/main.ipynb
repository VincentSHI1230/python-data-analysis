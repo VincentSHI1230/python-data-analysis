{
 "cells": [
  {
   "cell_type": "markdown",
   "metadata": {},
   "source": [
    "# 期末实践报告: Python 雷达图绘制及其实实践操作\n",
    "\n",
    "> 北京工商大学 2022 年 Python 数据分析及可视化基础  \n",
    "> 史胤隆 张依彤 2022 年 12 月\n"
   ]
  },
  {
   "cell_type": "code",
   "execution_count": 6,
   "metadata": {},
   "outputs": [],
   "source": [
    "import matplotlib.pyplot as plt\n"
   ]
  }
 ],
 "metadata": {
  "kernelspec": {
   "display_name": "Python 3.10.4 64-bit",
   "language": "python",
   "name": "python3"
  },
  "language_info": {
   "codemirror_mode": {
    "name": "ipython",
    "version": 3
   },
   "file_extension": ".py",
   "mimetype": "text/x-python",
   "name": "python",
   "nbconvert_exporter": "python",
   "pygments_lexer": "ipython3",
   "version": "3.10.4"
  },
  "orig_nbformat": 4,
  "vscode": {
   "interpreter": {
    "hash": "1608450a02e6a97ec355d20a5f4c12ad3b904c4ce94463b3fe1d736c2c4ff2af"
   }
  }
 },
 "nbformat": 4,
 "nbformat_minor": 2
}
