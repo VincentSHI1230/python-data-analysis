{
 "cells": [
  {
   "cell_type": "markdown",
   "metadata": {},
   "source": [
    "# 期末实践报告: Python 雷达图绘制及其实实践操作\n",
    "\n",
    "> 北京工商大学 2022 年 Python 数据分析及可视化基础  \n",
    "> 史胤隆 张依彤 2022 年 12 月\n"
   ]
  },
  {
   "cell_type": "markdown",
   "metadata": {},
   "source": [
    "我们选定了雷达图进行数据分析实验。我们确定的实验目标如下：\n",
    "\n",
    "- 了解雷达图的基本概念和使用场景\n",
    "- 使用 Python 生成适于雷达图的随机数据\n",
    "- 使用 plt 绘制雷达图\n",
    "- 使用更专业的第三方库绘制雷达图\n",
    "- 将雷达图的绘制封装为泛用性函数，方便后续使用\n"
   ]
  },
  {
   "cell_type": "markdown",
   "metadata": {},
   "source": [
    "## 实验准备\n",
    "\n",
    "实验前，我们需要准备相关的环境。以下是需要安装的 Python 库和对应的安装指令 (Windows)，将在实验中持续更新：\n",
    "\n",
    "- numpy\n",
    "- pandas\n",
    "- pathlib (内置模块)\n"
   ]
  },
  {
   "cell_type": "code",
   "execution_count": null,
   "metadata": {
    "vscode": {
     "languageId": "bat"
    }
   },
   "outputs": [],
   "source": [
    "pip install -U numpy\n",
    "pip install -U pandas\n"
   ]
  },
  {
   "cell_type": "markdown",
   "metadata": {},
   "source": [
    "## 实验过程\n",
    "\n",
    "### 一、了解雷达图的基本概念和使用场景\n",
    "\n",
    "略\n"
   ]
  },
  {
   "cell_type": "markdown",
   "metadata": {},
   "source": [
    "### 二、使用 Python 生成适于雷达图的随机数据\n",
    "\n",
    "根据雷达图的属性，我们计划生成一个存储了张三、李四、王五三名同学语文、数学、英语、物理、化学、生物、政治、历史、地理九门课程成绩的 Excel 文件。如此做，我们可以：\n",
    "\n",
    "- 加强对 pathlib.`Path` 类的理解\n",
    "- 掌握 pandas.`DataFrame` 类的基本使用方法\n",
    "- 掌握 numpy 随机数的基本使用方法\n",
    "- 掌握 Excel 文件的基本读写方法\n",
    "\n",
    "我们使用 pandas 生成这个文件，代码如下：\n"
   ]
  },
  {
   "cell_type": "code",
   "execution_count": null,
   "metadata": {},
   "outputs": [],
   "source": [
    "\"\"\"\n",
    "generation 数据生成部分\n",
    "------------------------------------------------------------\n",
    "这里生成随机数据并保存在 Excel 文件中, 用于后续的数据分析\n",
    "\"\"\"\n",
    "\n",
    "import numpy as np\n",
    "import pandas as pd\n",
    "from pathlib import Path\n",
    "\n",
    "NAMES = ['张三', '李四', '王五']\n",
    "COURSES = ['语文', '数学', '英语', '物理', '化学', '生物', '政治', '历史', '地理']\n",
    "LIMIT = [60, 100]\n",
    "\n",
    "\n",
    "def generate():\n",
    "    \"\"\"生成数据并存入 Excel 文件\"\"\"\n",
    "    dir = Path(__file__).parent\n",
    "    data = np.random.randint(LIMIT[0], LIMIT[1], (len(NAMES), len(COURSES)))\n",
    "    df = pd.DataFrame(data, index=NAMES, columns=COURSES)\n",
    "    df.to_excel(dir / 'data.xlsx')\n",
    "    print('数据生成成功!')\n",
    "\n",
    "\n",
    "if __name__ == '__main__':\n",
    "    generate()\n"
   ]
  }
 ],
 "metadata": {
  "kernelspec": {
   "display_name": "Python 3.10.4 64-bit",
   "language": "python",
   "name": "python3"
  },
  "language_info": {
   "codemirror_mode": {
    "name": "ipython",
    "version": 3
   },
   "file_extension": ".py",
   "mimetype": "text/x-python",
   "name": "python",
   "nbconvert_exporter": "python",
   "pygments_lexer": "ipython3",
   "version": "3.10.4"
  },
  "orig_nbformat": 4,
  "vscode": {
   "interpreter": {
    "hash": "1608450a02e6a97ec355d20a5f4c12ad3b904c4ce94463b3fe1d736c2c4ff2af"
   }
  }
 },
 "nbformat": 4,
 "nbformat_minor": 2
}
