{
 "cells": [
  {
   "cell_type": "code",
   "execution_count": null,
   "metadata": {},
   "outputs": [],
   "source": [
    "# 雷达图的绘制\n",
    "import matplotlib.pyplot as plt  # 导入绘图模块\n",
    "import numpy as np  # 导入numpy模块\n",
    "from matplotlib.font_manager import FontProperties  # 导入字体管理器\n",
    "font = FontProperties(fname=r\"c:\\windows\\fonts\\simsun.ttc\", size=14)  # 设置字体\n",
    "labels = np.array(['语文', '数学', '英语', '物理', '化学',\n",
    "                  '生物', '政治', '历史', '地理'])  # 定义标签\n",
    "dataLenth = 9  # 数据个数\n",
    "data = np.array([80, 90, 70, 60, 80, 90, 70, 60, 80])  # 数据值\n",
    "angles = np.linspace(0, 2*np.pi, dataLenth, endpoint=False)  # 计算等分点\n",
    "data = np.concatenate((data, [data[0]]))  # 闭合\n",
    "angles = np.concatenate((angles, [angles[0]]))  # 闭合\n",
    "fig = plt.figure()  # 建立图像\n",
    "ax = fig.add_subplot(111, polar=True)  # 添加子图\n",
    "ax.plot(angles, data, 'bo-', linewidth=2)  # 绘制折线图\n",
    "ax.fill(angles, data, facecolor='r', alpha=0.25)  # 填充颜色\n",
    "ax.set_thetagrids(angles * 180/np.pi, labels, FontProperties=font)  # 添加每个特征的标签\n",
    "ax.set_title(\"雷达图\", va='bottom', FontProperties=font)  # 添加标题\n",
    "ax.set_rlim(0, 100)  # 设置雷达图的范围\n",
    "ax.grid(True)  # 添加网格线\n",
    "plt.show()  # 显示图像\n"
   ]
  }
 ],
 "metadata": {
  "language_info": {
   "name": "python"
  },
  "orig_nbformat": 4
 },
 "nbformat": 4,
 "nbformat_minor": 2
}
