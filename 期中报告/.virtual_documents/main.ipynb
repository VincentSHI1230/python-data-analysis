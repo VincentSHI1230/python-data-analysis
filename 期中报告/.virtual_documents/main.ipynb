"""
圆的方程: rho = C
"""
import matplotlib.pyplot as plt #导入绘图模块
import math #导入数学模块
 
thetas = [math.pi/180*i for i in range(0, 361)] #生成角度列表
rhos = [1] * 361

fig = plt.figure() #新建画布
plt.polar(thetas, rhos, "r-") #极坐标画图
plt.show()



"""
简单螺线方程: rho = theta
"""
import matplotlib.pyplot as plt #导入绘图模块

thetas =[] #用来存放极角
rhos = [] #用来存放极径

for i in range(0, 721):
    theta = i*math.pi/180 #角度转弧度
    rho = theta
    thetas.append(theta)
    rhos.append(rho)

fig = plt.figure() #新建画布
plt.polar(thetas, rhos, "g:") #极坐标画图
plt.show()



"""
心形线方程: rho = 1 - cos(theta)
"""

import matplotlib.pyplot as plt #导入绘图模块
import math #导入数学模块
 
thetas =[] #用来存放极角
rhos = [] #用来存放极径
 
for i in range(0, 361, 10):
    theta = i*math.pi/180 #角度转弧度
    rho = 1- math.cos(theta) #极径
    thetas.append(theta)
    rhos.append(rho)
 
fig = plt.figure() #新建画布
plt.polar(thetas, rhos, "bo") #极坐标画图
plt.show()

